{
 "cells": [
  {
   "cell_type": "code",
   "execution_count": 1,
   "id": "eb04fb1b-eeda-4ba2-8eeb-740f289f0c07",
   "metadata": {},
   "outputs": [],
   "source": [
    "import pandas as pd\n",
    "import numpy as np\n",
    "from fastai.vision.all import *\n",
    "\n",
    "from fastai.vision.core import PILImage, PILMask\n",
    "from fastai.vision.data import ImageBlock, MaskBlock, imagenet_stats\n",
    "from PIL import Image"
   ]
  },
  {
   "cell_type": "code",
   "execution_count": 2,
   "id": "6c439696-eac9-40e0-8076-bab2e88cfcbb",
   "metadata": {},
   "outputs": [],
   "source": [
    "path = Path(\"/data/datasets/severstal\")\n",
    "df = pd.read_csv(path/'train.csv')"
   ]
  },
  {
   "cell_type": "code",
   "execution_count": 9,
   "id": "ad0b4bd9-65fa-41c8-a1f1-a9696904fec6",
   "metadata": {},
   "outputs": [],
   "source": [
    "#path = Path(\"/data/datasets/severstal\")\n",
    "Path.BASE_PATH = path"
   ]
  },
  {
   "cell_type": "markdown",
   "id": "b01ccc54-fbe6-46c5-8796-04b4a601e3b8",
   "metadata": {},
   "source": [
    "Getting the list of image names with defects:"
   ]
  },
  {
   "cell_type": "code",
   "execution_count": 47,
   "id": "d79bac95-edbb-4d1d-b3b9-94563424f756",
   "metadata": {},
   "outputs": [
    {
     "data": {
      "text/plain": [
       "(#6) [Path('test_images'),Path('train_images'),Path('train.csv'),Path('masks'),Path('codes.txt'),Path('sample_submission.csv')]"
      ]
     },
     "execution_count": 47,
     "metadata": {},
     "output_type": "execute_result"
    }
   ],
   "source": [
    "path.ls()"
   ]
  },
  {
   "cell_type": "code",
   "execution_count": 52,
   "id": "d529c1b1-e3cb-499d-9c44-2dc6f96afcd4",
   "metadata": {},
   "outputs": [],
   "source": [
    "defected_list = list(df.ImageId.unique())"
   ]
  },
  {
   "cell_type": "markdown",
   "id": "15708a82-e363-4b9d-8b14-060a1c5dc9e0",
   "metadata": {},
   "source": [
    "Defining a function to get the categories `defect/no defect` as 1 and 0 respectively:"
   ]
  },
  {
   "cell_type": "code",
   "execution_count": 73,
   "id": "0c44a8ed-b8a4-411c-a65a-6780c671a54f",
   "metadata": {},
   "outputs": [],
   "source": [
    "def name_in_list(image_name):\n",
    "    if image_name in defected_list:\n",
    "        return 1\n",
    "    else:\n",
    "        return 0"
   ]
  },
  {
   "cell_type": "markdown",
   "id": "a27200f7-1e4a-4f9b-bb2d-4de9facf6782",
   "metadata": {},
   "source": [
    "Now, it comes the DataBlock definition. The selected method for the first resizing was `squish` as random crop might get relevant sections of the image (i.e. parts with defects on it) out of the frame, compounded by the fact the image ratio size is significant. (_TODO:_ `pad` might be a better option if there's a way to use `pad_mode=reflection` as shown in https://docs.fast.ai/vision.augment#Resize):"
   ]
  },
  {
   "cell_type": "code",
   "execution_count": null,
   "id": "411193b1-bef0-4d88-ac3e-63ec542b7359",
   "metadata": {},
   "outputs": [],
   "source": [
    "images = DataBlock(blocks = (ImageBlock, CategoryBlock),\n",
    "                 get_items=get_image_files, \n",
    "                 get_y=using_attr(name_in_list, 'name'),\n",
    "                 item_tfms=Resize(1600, method='squish'),\n",
    "                 batch_tfms=aug_transforms(size=700, min_scale=0.8)\n",
    "                  )"
   ]
  },
  {
   "cell_type": "code",
   "execution_count": null,
   "id": "26ea283f-aa0c-47fc-9105-0ba72b86f5e5",
   "metadata": {},
   "outputs": [],
   "source": [
    "images.summary(path/'train_images')"
   ]
  },
  {
   "cell_type": "code",
   "execution_count": 91,
   "id": "5c3864d5-c240-45bb-9627-122b731a0c63",
   "metadata": {},
   "outputs": [],
   "source": [
    "dls = images.dataloaders(path/\"train_images\", batch_size=16)"
   ]
  },
  {
   "cell_type": "markdown",
   "id": "729e4388-2d0d-499d-a54b-eb47082f5332",
   "metadata": {},
   "source": [
    "Setting now our learner:"
   ]
  },
  {
   "cell_type": "code",
   "execution_count": 92,
   "id": "a10d8b33-9c18-49d2-908a-82549fc2d681",
   "metadata": {},
   "outputs": [],
   "source": [
    "learn = cnn_learner(dls, resnet34, metrics=error_rate, )"
   ]
  },
  {
   "cell_type": "markdown",
   "id": "4b4b4050-1770-4989-aa5a-283e29038d93",
   "metadata": {},
   "source": [
    "Finding out the proper LR:"
   ]
  },
  {
   "cell_type": "code",
   "execution_count": 93,
   "id": "e28c8770-26af-4ccd-a482-fe28c8e26587",
   "metadata": {},
   "outputs": [
    {
     "data": {
      "text/html": [],
      "text/plain": [
       "<IPython.core.display.HTML object>"
      ]
     },
     "metadata": {},
     "output_type": "display_data"
    },
    {
     "data": {
      "image/png": "[encoded data removed]",
      "text/plain": [
       "<Figure size 432x288 with 1 Axes>"
      ]
     },
     "metadata": {
      "needs_background": "light"
     },
     "output_type": "display_data"
    }
   ],
   "source": [
    "lr_min,lr_steep = learn.lr_find()"
   ]
  },
  {
   "cell_type": "code",
   "execution_count": 94,
   "id": "e6df9e15-459d-4312-aee9-c75170800ff8",
   "metadata": {},
   "outputs": [
    {
     "name": "stdout",
     "output_type": "stream",
     "text": [
      "Minimum/10: 6.31e-04, steepest point: 1.91e-06\n"
     ]
    }
   ],
   "source": [
    "print(f\"Minimum/10: {lr_min:.2e}, steepest point: {lr_steep:.2e}\")"
   ]
  },
  {
   "cell_type": "markdown",
   "id": "8a535457-3cf5-4992-ab9e-5e90eae775a8",
   "metadata": {},
   "source": [
    "Let's train with the LR found:"
   ]
  },
  {
   "cell_type": "code",
   "execution_count": 102,
   "id": "e6cc767f-3db5-47f2-869f-56f155c607fa",
   "metadata": {},
   "outputs": [
    {
     "data": {
      "text/html": [
       "<table border=\"1\" class=\"dataframe\">\n",
       "  <thead>\n",
       "    <tr style=\"text-align: left;\">\n",
       "      <th>epoch</th>\n",
       "      <th>train_loss</th>\n",
       "      <th>valid_loss</th>\n",
       "      <th>error_rate</th>\n",
       "      <th>time</th>\n",
       "    </tr>\n",
       "  </thead>\n",
       "  <tbody>\n",
       "    <tr>\n",
       "      <td>0</td>\n",
       "      <td>0.919049</td>\n",
       "      <td>0.540379</td>\n",
       "      <td>0.257859</td>\n",
       "      <td>09:07</td>\n",
       "    </tr>\n",
       "  </tbody>\n",
       "</table>"
      ],
      "text/plain": [
       "<IPython.core.display.HTML object>"
      ]
     },
     "metadata": {},
     "output_type": "display_data"
    },
    {
     "data": {
      "text/html": [
       "<table border=\"1\" class=\"dataframe\">\n",
       "  <thead>\n",
       "    <tr style=\"text-align: left;\">\n",
       "      <th>epoch</th>\n",
       "      <th>train_loss</th>\n",
       "      <th>valid_loss</th>\n",
       "      <th>error_rate</th>\n",
       "      <th>time</th>\n",
       "    </tr>\n",
       "  </thead>\n",
       "  <tbody>\n",
       "    <tr>\n",
       "      <td>0</td>\n",
       "      <td>0.777698</td>\n",
       "      <td>0.483853</td>\n",
       "      <td>0.213689</td>\n",
       "      <td>11:03</td>\n",
       "    </tr>\n",
       "    <tr>\n",
       "      <td>1</td>\n",
       "      <td>0.720526</td>\n",
       "      <td>0.428646</td>\n",
       "      <td>0.181854</td>\n",
       "      <td>11:02</td>\n",
       "    </tr>\n",
       "    <tr>\n",
       "      <td>2</td>\n",
       "      <td>0.633707</td>\n",
       "      <td>0.354636</td>\n",
       "      <td>0.144449</td>\n",
       "      <td>11:04</td>\n",
       "    </tr>\n",
       "    <tr>\n",
       "      <td>3</td>\n",
       "      <td>0.604097</td>\n",
       "      <td>0.328015</td>\n",
       "      <td>0.126542</td>\n",
       "      <td>11:02</td>\n",
       "    </tr>\n",
       "    <tr>\n",
       "      <td>4</td>\n",
       "      <td>0.518992</td>\n",
       "      <td>0.383444</td>\n",
       "      <td>0.157979</td>\n",
       "      <td>11:02</td>\n",
       "    </tr>\n",
       "    <tr>\n",
       "      <td>5</td>\n",
       "      <td>0.529244</td>\n",
       "      <td>0.305882</td>\n",
       "      <td>0.118583</td>\n",
       "      <td>11:02</td>\n",
       "    </tr>\n",
       "    <tr>\n",
       "      <td>6</td>\n",
       "      <td>0.508202</td>\n",
       "      <td>0.292361</td>\n",
       "      <td>0.110227</td>\n",
       "      <td>11:02</td>\n",
       "    </tr>\n",
       "    <tr>\n",
       "      <td>7</td>\n",
       "      <td>0.479940</td>\n",
       "      <td>0.286989</td>\n",
       "      <td>0.106645</td>\n",
       "      <td>11:02</td>\n",
       "    </tr>\n",
       "  </tbody>\n",
       "</table>"
      ],
      "text/plain": [
       "<IPython.core.display.HTML object>"
      ]
     },
     "metadata": {},
     "output_type": "display_data"
    }
   ],
   "source": [
    "learn.fine_tune(8, base_lr=3e-05)"
   ]
  },
  {
   "cell_type": "markdown",
   "id": "0d386cea-d9cd-4c86-a7ad-a1994614c0db",
   "metadata": {},
   "source": [
    "Plotting the loss:"
   ]
  },
  {
   "cell_type": "code",
   "execution_count": 103,
   "id": "ba1c8f27-6971-493d-8638-8c6d359f2e14",
   "metadata": {},
   "outputs": [
    {
     "data": {
      "image/png": "[encoded data removed]",
      "text/plain": [
       "<Figure size 432x288 with 1 Axes>"
      ]
     },
     "metadata": {
      "needs_background": "light"
     },
     "output_type": "display_data"
    }
   ],
   "source": [
    "learn.recorder.plot_loss()"
   ]
  },
  {
   "cell_type": "code",
   "execution_count": null,
   "id": "152e9c74-edda-4b8e-bd38-d89a16ed7700",
   "metadata": {},
   "outputs": [],
   "source": []
  },
  {
   "cell_type": "code",
   "execution_count": 106,
   "id": "cc8868f4-6052-4ce4-9ffb-798236c2ff18",
   "metadata": {},
   "outputs": [],
   "source": [
    "learn.export(fname='fine_tuner.pkl')"
   ]
  },
  {
   "cell_type": "code",
   "execution_count": 110,
   "id": "f3357534-658d-48b9-8cbd-ca8d7a732806",
   "metadata": {},
   "outputs": [
    {
     "data": {
      "text/plain": [
       "Path('models/fine_tun_state.pth')"
      ]
     },
     "execution_count": 110,
     "metadata": {},
     "output_type": "execute_result"
    }
   ],
   "source": [
    "learn.save('fine_tun_state')"
   ]
  }
 ],
 "metadata": {
  "kernelspec": {
   "display_name": "Python 3",
   "language": "python",
   "name": "python3"
  },
  "language_info": {
   "codemirror_mode": {
    "name": "ipython",
    "version": 3
   },
   "file_extension": ".py",
   "mimetype": "text/x-python",
   "name": "python",
   "nbconvert_exporter": "python",
   "pygments_lexer": "ipython3",
   "version": "3.8.5"
  }
 },
 "nbformat": 4,
 "nbformat_minor": 5
}
