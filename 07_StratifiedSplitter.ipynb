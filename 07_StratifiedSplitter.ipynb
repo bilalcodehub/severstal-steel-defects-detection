{
 "cells": [
  {
   "cell_type": "code",
   "execution_count": 1,
   "id": "17f22c18-e834-4ed7-9e5c-55511ed71904",
   "metadata": {},
   "outputs": [],
   "source": [
    "import pandas as pd\n",
    "import numpy as np\n",
    "from fastai.vision.all import *\n",
    "\n",
    "from fastai.vision.core import PILImage, PILMask\n",
    "from fastai.vision.data import ImageBlock, MaskBlock, imagenet_stats\n",
    "from PIL import Image\n",
    "\n",
    "from fastai.data.transforms import TrainTestSplitter"
   ]
  },
  {
   "cell_type": "code",
   "execution_count": 2,
   "id": "26d0bae8-4280-43c4-9b5e-6e16d5d7d8d5",
   "metadata": {},
   "outputs": [
    {
     "name": "stdout",
     "output_type": "stream",
     "text": [
      "Requirement already satisfied: seaborn in /home/carlos/.virtualenvs/fastbook/lib/python3.9/site-packages (0.11.1)\n",
      "Requirement already satisfied: scipy>=1.0 in /home/carlos/.virtualenvs/fastbook/lib/python3.9/site-packages (from seaborn) (1.6.3)\n",
      "Requirement already satisfied: matplotlib>=2.2 in /home/carlos/.virtualenvs/fastbook/lib/python3.9/site-packages (from seaborn) (3.4.2)\n",
      "Requirement already satisfied: pandas>=0.23 in /home/carlos/.virtualenvs/fastbook/lib/python3.9/site-packages (from seaborn) (1.2.4)\n",
      "Requirement already satisfied: numpy>=1.15 in /home/carlos/.virtualenvs/fastbook/lib/python3.9/site-packages (from seaborn) (1.20.3)\n",
      "Requirement already satisfied: pillow>=6.2.0 in /home/carlos/.virtualenvs/fastbook/lib/python3.9/site-packages (from matplotlib>=2.2->seaborn) (8.2.0)\n",
      "Requirement already satisfied: kiwisolver>=1.0.1 in /home/carlos/.virtualenvs/fastbook/lib/python3.9/site-packages (from matplotlib>=2.2->seaborn) (1.3.1)\n",
      "Requirement already satisfied: cycler>=0.10 in /home/carlos/.virtualenvs/fastbook/lib/python3.9/site-packages (from matplotlib>=2.2->seaborn) (0.10.0)\n",
      "Requirement already satisfied: python-dateutil>=2.7 in /home/carlos/.virtualenvs/fastbook/lib/python3.9/site-packages (from matplotlib>=2.2->seaborn) (2.8.1)\n",
      "Requirement already satisfied: pyparsing>=2.2.1 in /home/carlos/.virtualenvs/fastbook/lib/python3.9/site-packages (from matplotlib>=2.2->seaborn) (2.4.7)\n",
      "Requirement already satisfied: six in /home/carlos/.virtualenvs/fastbook/lib/python3.9/site-packages (from cycler>=0.10->matplotlib>=2.2->seaborn) (1.16.0)\n",
      "Requirement already satisfied: pytz>=2017.3 in /home/carlos/.virtualenvs/fastbook/lib/python3.9/site-packages (from pandas>=0.23->seaborn) (2021.1)\n"
     ]
    }
   ],
   "source": [
    "!pip install seaborn\n",
    "import seaborn as sn"
   ]
  },
  {
   "cell_type": "markdown",
   "id": "7eff8861-c44c-4355-b0c2-2ba21ff50703",
   "metadata": {},
   "source": []
  },
  {
   "cell_type": "code",
   "execution_count": 3,
   "id": "febebfdc-8e7e-428e-9623-0f98d514b12a",
   "metadata": {},
   "outputs": [],
   "source": [
    "YOUR_PATH = \"/data/datasets/severstal/\" #Edit this for your path"
   ]
  },
  {
   "cell_type": "code",
   "execution_count": 4,
   "id": "2bf836fa-65f0-4a6d-bcb6-7a0ac5cbd712",
   "metadata": {},
   "outputs": [],
   "source": [
    "path = Path(YOUR_PATH)\n",
    "df = pd.read_csv(path/'train.csv')\n",
    "\n",
    "#path = Path(\"/data/datasets/severstal\")\n",
    "Path.BASE_PATH = path"
   ]
  },
  {
   "cell_type": "code",
   "execution_count": 5,
   "id": "727804f0-a0ae-4a93-aa5d-553083b542ee",
   "metadata": {},
   "outputs": [],
   "source": [
    "df.drop('EncodedPixels', axis=1, inplace=True)"
   ]
  },
  {
   "cell_type": "markdown",
   "id": "2b26f4fa-f5c4-4692-b0e0-f385ddbd07ea",
   "metadata": {},
   "source": [
    "Getting the class in a Pandas series:"
   ]
  },
  {
   "cell_type": "code",
   "execution_count": 6,
   "id": "a5b92743-7eb5-43e2-8af0-b97d5637e613",
   "metadata": {},
   "outputs": [],
   "source": [
    "y = df.ClassId"
   ]
  },
  {
   "cell_type": "code",
   "execution_count": 7,
   "id": "4533c38b-c95e-4a87-bf64-cce919d4e125",
   "metadata": {},
   "outputs": [],
   "source": [
    "strat_splitter = TrainTestSplitter(test_size=0.2, random_state=42, stratify=y)"
   ]
  },
  {
   "cell_type": "code",
   "execution_count": 8,
   "id": "bbe33ad3-e8ea-48e8-b940-7e0ade02a6ec",
   "metadata": {},
   "outputs": [
    {
     "data": {
      "text/plain": [
       "(#6) [Path('train.csv'),Path('codes.txt'),Path('test_images'),Path('masks'),Path('sample_submission.csv'),Path('train_images')]"
      ]
     },
     "execution_count": 8,
     "metadata": {},
     "output_type": "execute_result"
    }
   ],
   "source": [
    "path.ls()"
   ]
  },
  {
   "cell_type": "code",
   "execution_count": 9,
   "id": "5cbbee54-fbd9-4d45-a469-ece1a9b5eafa",
   "metadata": {},
   "outputs": [],
   "source": [
    "def get_x(r): return path/'train_images'/r['ImageId']\n",
    "def get_y(r): return 1 # Mimicking a binary classifier (Defect/No defect). All images have defects\n",
    "dblock = DataBlock(get_x = get_x, \n",
    "                   get_y = get_y,\n",
    "                  splitter=strat_splitter)\n",
    "dsets = dblock.datasets(df)"
   ]
  },
  {
   "cell_type": "code",
   "execution_count": 10,
   "id": "1d2e09b3-cde6-4b23-b0ed-fcb71abce3d6",
   "metadata": {},
   "outputs": [
    {
     "data": {
      "text/plain": [
       "(5676, 1419)"
      ]
     },
     "execution_count": 10,
     "metadata": {},
     "output_type": "execute_result"
    }
   ],
   "source": [
    "len(dsets.train), len(dsets.valid)"
   ]
  },
  {
   "cell_type": "markdown",
   "id": "1b7a7e5b-6dfd-42a4-a3dd-4ec36577538c",
   "metadata": {},
   "source": [
    "Validation set class distribution:"
   ]
  },
  {
   "cell_type": "code",
   "execution_count": 11,
   "id": "4045056c-13fd-4e3f-ab82-26c0b107ba53",
   "metadata": {},
   "outputs": [],
   "source": [
    "valid_set = [x.name for x, y in dsets.valid]"
   ]
  },
  {
   "cell_type": "code",
   "execution_count": 12,
   "id": "d6b10070-cc8f-4fea-b056-cb147366f657",
   "metadata": {},
   "outputs": [],
   "source": [
    "v_set = pd.DataFrame(valid_set, columns=['ImageId'])"
   ]
  },
  {
   "cell_type": "code",
   "execution_count": 13,
   "id": "c1a75575-3e6f-4fa8-82aa-e4723b5f3048",
   "metadata": {},
   "outputs": [
    {
     "data": {
      "text/plain": [
       "<AxesSubplot:xlabel='ClassId', ylabel='count'>"
      ]
     },
     "execution_count": 13,
     "metadata": {},
     "output_type": "execute_result"
    },
    {
     "data": {
      "image/png": "[encoded data removed]",
      "text/plain": [
       "<Figure size 432x288 with 1 Axes>"
      ]
     },
     "metadata": {
      "needs_background": "light"
     },
     "output_type": "display_data"
    }
   ],
   "source": [
    "sn.countplot(x='ClassId', data=v_set.merge(df))"
   ]
  },
  {
   "cell_type": "markdown",
   "id": "202d069e-6d53-4290-b267-5cfc5cff7501",
   "metadata": {},
   "source": [
    "Train set class distribution:"
   ]
  },
  {
   "cell_type": "code",
   "execution_count": 14,
   "id": "f0720f3f-20d5-4bc2-aaa3-5c6f95baa124",
   "metadata": {},
   "outputs": [],
   "source": [
    "test_set = [x.name for x, y in dsets.train]"
   ]
  },
  {
   "cell_type": "code",
   "execution_count": 15,
   "id": "f2e374aa-3442-411f-b448-06449d69e16f",
   "metadata": {},
   "outputs": [],
   "source": [
    "t_set = pd.DataFrame(test_set, columns=['ImageId'])"
   ]
  },
  {
   "cell_type": "code",
   "execution_count": 16,
   "id": "7fa47fb8-e4f5-49c3-8aab-e8d2d364a1cb",
   "metadata": {},
   "outputs": [
    {
     "data": {
      "text/plain": [
       "<AxesSubplot:xlabel='ClassId', ylabel='count'>"
      ]
     },
     "execution_count": 16,
     "metadata": {},
     "output_type": "execute_result"
    },
    {
     "data": {
      "image/png": "[encoded data removed]",
      "text/plain": [
       "<Figure size 432x288 with 1 Axes>"
      ]
     },
     "metadata": {
      "needs_background": "light"
     },
     "output_type": "display_data"
    }
   ],
   "source": [
    "sn.countplot(x='ClassId', data=t_set.merge(df))"
   ]
  },
  {
   "cell_type": "markdown",
   "id": "6dc98816-6322-42e8-9aec-5b02991d2a4a",
   "metadata": {},
   "source": [
    "Original distribution:"
   ]
  },
  {
   "cell_type": "code",
   "execution_count": 17,
   "id": "8f212d40-7b50-4744-8842-f4b28b824ec0",
   "metadata": {},
   "outputs": [
    {
     "data": {
      "text/plain": [
       "<AxesSubplot:xlabel='ClassId', ylabel='count'>"
      ]
     },
     "execution_count": 17,
     "metadata": {},
     "output_type": "execute_result"
    },
    {
     "data": {
      "image/png": "[encoded data removed]",
      "text/plain": [
       "<Figure size 432x288 with 1 Axes>"
      ]
     },
     "metadata": {
      "needs_background": "light"
     },
     "output_type": "display_data"
    }
   ],
   "source": [
    "sn.countplot(x='ClassId', data=df)"
   ]
  },
  {
   "cell_type": "code",
   "execution_count": null,
   "id": "7e02807b-6842-4d3b-84c4-4efb46354643",
   "metadata": {},
   "outputs": [],
   "source": []
  },
  {
   "cell_type": "markdown",
   "id": "2298ec14-8b9f-4a08-b0b2-556a8459a9b8",
   "metadata": {},
   "source": [
    "Now that we know the splitter is working, we can load the image properly:"
   ]
  },
  {
   "cell_type": "code",
   "execution_count": 18,
   "id": "24a8a7b7-ddc4-4c44-b4a7-90e747789edf",
   "metadata": {},
   "outputs": [],
   "source": [
    "def get_x(r): return path/'train_images'/r['ImageId']\n",
    "def get_y(r): return 1 # Mimicking a binary classifier (Defect/No defect). All images have defects\n",
    "dblock = DataBlock((ImageBlock, CategoryBlock),\n",
    "                    get_x = get_x, \n",
    "                    get_y = get_y,\n",
    "                    splitter=strat_splitter)"
   ]
  },
  {
   "cell_type": "code",
   "execution_count": 19,
   "id": "63c3db49-cbf1-4858-80b8-b8ea8fcbd661",
   "metadata": {},
   "outputs": [],
   "source": [
    "dls = dblock.dataloaders(df)"
   ]
  },
  {
   "cell_type": "code",
   "execution_count": 24,
   "id": "54ca4eba-14a2-4dfe-802b-6305b02ab295",
   "metadata": {},
   "outputs": [
    {
     "data": {
      "image/png": "[encoded data removed]",
      "text/plain": [
       "<Figure size 648x648 with 9 Axes>"
      ]
     },
     "metadata": {
      "needs_background": "light"
     },
     "output_type": "display_data"
    }
   ],
   "source": [
    "dls.show_batch()"
   ]
  }
 ],
 "metadata": {
  "kernelspec": {
   "display_name": "Python 3",
   "language": "python",
   "name": "python3"
  },
  "language_info": {
   "codemirror_mode": {
    "name": "ipython",
    "version": 3
   },
   "file_extension": ".py",
   "mimetype": "text/x-python",
   "name": "python",
   "nbconvert_exporter": "python",
   "pygments_lexer": "ipython3",
   "version": "3.9.5"
  }
 },
 "nbformat": 4,
 "nbformat_minor": 5
}
