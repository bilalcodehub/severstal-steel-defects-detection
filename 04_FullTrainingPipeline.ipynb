{
 "cells": [
  {
   "cell_type": "markdown",
   "id": "18b53eb2",
   "metadata": {},
   "source": [
    "### Library imports"
   ]
  },
  {
   "cell_type": "code",
   "execution_count": 1,
   "id": "fb1156c0",
   "metadata": {},
   "outputs": [],
   "source": [
    "from fastai.vision.all import *\n",
    "import fastai"
   ]
  },
  {
   "cell_type": "code",
   "execution_count": 2,
   "id": "b9588295",
   "metadata": {},
   "outputs": [
    {
     "data": {
      "text/plain": [
       "'2.4'"
      ]
     },
     "execution_count": 2,
     "metadata": {},
     "output_type": "execute_result"
    }
   ],
   "source": [
    "fastai.__version__"
   ]
  },
  {
   "cell_type": "code",
   "execution_count": null,
   "id": "a05e8599",
   "metadata": {},
   "outputs": [],
   "source": [
    "SEED=2021\n",
    "def seed_everything(seed):\n",
    "    random.seed(seed)\n",
    "    os.environ['PYTHONHASHSEED'] = str(seed)\n",
    "    np.random.seed(seed)\n",
    "    torch.manual_seed(seed)\n",
    "    torch.cuda.manual_seed(seed)\n",
    "    torch.backends.cudnn.deterministic = True\n",
    "    #tf.set_random_seed(seed)\n",
    "seed_everything(SEED)\n",
    "torch.backends.cudnn.benchmark = True"
   ]
  },
  {
   "cell_type": "markdown",
   "id": "456b9756",
   "metadata": {},
   "source": [
    "### Loading and preprocessing data"
   ]
  },
  {
   "cell_type": "code",
   "execution_count": 3,
   "id": "e7015034",
   "metadata": {},
   "outputs": [],
   "source": [
    "path = Path(\"/data/datasets/severstal\")"
   ]
  },
  {
   "cell_type": "code",
   "execution_count": 4,
   "id": "47d93c18",
   "metadata": {},
   "outputs": [],
   "source": [
    "codes = [\"Background\", \"Divots\", \"Cracks\", \"Scratches\", \"Ablation\"]"
   ]
  },
  {
   "cell_type": "code",
   "execution_count": 7,
   "id": "9d31961c",
   "metadata": {},
   "outputs": [],
   "source": [
    "def get_mask(fn):\n",
    "    fn = str(fn).replace('train_images', 'masks').replace('jpg','png')\n",
    "    return PILMask.create(fn)"
   ]
  },
  {
   "cell_type": "markdown",
   "id": "206bee6f",
   "metadata": {},
   "source": [
    "### Using custom stats to normalize data"
   ]
  },
  {
   "cell_type": "code",
   "execution_count": 8,
   "id": "07c65bee",
   "metadata": {},
   "outputs": [],
   "source": [
    "severstal_stats=([0.343], [0.197])"
   ]
  },
  {
   "cell_type": "markdown",
   "id": "59cb0dee",
   "metadata": {},
   "source": [
    "### Creating datablock to read grayscale images and target masks"
   ]
  },
  {
   "cell_type": "code",
   "execution_count": 60,
   "id": "f5eec40f",
   "metadata": {},
   "outputs": [],
   "source": [
    "dblock = DataBlock(blocks=(ImageBlock, MaskBlock(codes)),\n",
    "                   get_items=get_image_files,\n",
    "                   get_y = get_mask,\n",
    "                   item_tfms=Resize(320),\n",
    "                   batch_tfms=[Normalize.from_stats(*severstal_stats)]\n",
    ")"
   ]
  },
  {
   "cell_type": "code",
   "execution_count": 61,
   "id": "660dbf78",
   "metadata": {},
   "outputs": [],
   "source": [
    "dls=dblock.dataloaders(path/'train_images', bs=1)"
   ]
  },
  {
   "cell_type": "markdown",
   "id": "e591aea5",
   "metadata": {},
   "source": [
    "### Creating custom loss function class\n",
    "Still need to figure out how to avoid calculating the accuracy for background class"
   ]
  },
  {
   "cell_type": "code",
   "execution_count": 62,
   "id": "0b16599f",
   "metadata": {},
   "outputs": [],
   "source": [
    "class CustomSeverstalSegComoLoss:\n",
    "    \"Dice and Focal combined\"\n",
    "    def __init__(self, axis=1, smooth=1., alpha=1.):\n",
    "        store_attr()\n",
    "        self.focal_loss = FocalLossFlat(axis=axis)\n",
    "        self.dice_loss =  DiceLoss(axis, smooth)\n",
    "        \n",
    "    def __call__(self, pred, targ):\n",
    "        return self.focal_loss(pred, targ) + self.alpha * self.dice_loss(pred, targ)\n",
    "    \n",
    "    def decodes(self, x):    return x.argmax(dim=self.axis)\n",
    "    def activation(self, x): return F.softmax(x, dim=self.axis)"
   ]
  },
  {
   "cell_type": "markdown",
   "id": "700281d2",
   "metadata": {},
   "source": [
    "### Creating learner"
   ]
  },
  {
   "cell_type": "code",
   "execution_count": 63,
   "id": "bbc36d9d",
   "metadata": {},
   "outputs": [
    {
     "data": {
      "text/html": [
       "<table border=\"1\" class=\"dataframe\">\n",
       "  <thead>\n",
       "    <tr style=\"text-align: left;\">\n",
       "      <th>epoch</th>\n",
       "      <th>train_loss</th>\n",
       "      <th>valid_loss</th>\n",
       "      <th>dice</th>\n",
       "      <th>time</th>\n",
       "    </tr>\n",
       "  </thead>\n",
       "  <tbody>\n",
       "    <tr>\n",
       "      <td>0</td>\n",
       "      <td>0.237689</td>\n",
       "      <td>0.194255</td>\n",
       "      <td>0.000000</td>\n",
       "      <td>11:32</td>\n",
       "    </tr>\n",
       "  </tbody>\n",
       "</table>"
      ],
      "text/plain": [
       "<IPython.core.display.HTML object>"
      ]
     },
     "metadata": {},
     "output_type": "display_data"
    },
    {
     "data": {
      "text/html": [
       "<table border=\"1\" class=\"dataframe\">\n",
       "  <thead>\n",
       "    <tr style=\"text-align: left;\">\n",
       "      <th>epoch</th>\n",
       "      <th>train_loss</th>\n",
       "      <th>valid_loss</th>\n",
       "      <th>dice</th>\n",
       "      <th>time</th>\n",
       "    </tr>\n",
       "  </thead>\n",
       "  <tbody>\n",
       "    <tr>\n",
       "      <td>0</td>\n",
       "      <td>0.114650</td>\n",
       "      <td>0.149531</td>\n",
       "      <td>0.521777</td>\n",
       "      <td>12:19</td>\n",
       "    </tr>\n",
       "    <tr>\n",
       "      <td>1</td>\n",
       "      <td>0.108963</td>\n",
       "      <td>0.152318</td>\n",
       "      <td>0.114506</td>\n",
       "      <td>12:21</td>\n",
       "    </tr>\n",
       "    <tr>\n",
       "      <td>2</td>\n",
       "      <td>0.069851</td>\n",
       "      <td>0.152890</td>\n",
       "      <td>0.080959</td>\n",
       "      <td>12:20</td>\n",
       "    </tr>\n",
       "    <tr>\n",
       "      <td>3</td>\n",
       "      <td>0.133413</td>\n",
       "      <td>0.206859</td>\n",
       "      <td>0.005184</td>\n",
       "      <td>12:20</td>\n",
       "    </tr>\n",
       "    <tr>\n",
       "      <td>4</td>\n",
       "      <td>0.081172</td>\n",
       "      <td>0.143520</td>\n",
       "      <td>0.247517</td>\n",
       "      <td>12:22</td>\n",
       "    </tr>\n",
       "    <tr>\n",
       "      <td>5</td>\n",
       "      <td>0.048118</td>\n",
       "      <td>0.481563</td>\n",
       "      <td>0.001282</td>\n",
       "      <td>12:22</td>\n",
       "    </tr>\n",
       "    <tr>\n",
       "      <td>6</td>\n",
       "      <td>0.066025</td>\n",
       "      <td>0.191557</td>\n",
       "      <td>0.000971</td>\n",
       "      <td>12:24</td>\n",
       "    </tr>\n",
       "    <tr>\n",
       "      <td>7</td>\n",
       "      <td>0.102145</td>\n",
       "      <td>0.166402</td>\n",
       "      <td>0.061721</td>\n",
       "      <td>12:23</td>\n",
       "    </tr>\n",
       "    <tr>\n",
       "      <td>8</td>\n",
       "      <td>0.095184</td>\n",
       "      <td>0.301006</td>\n",
       "      <td>0.000249</td>\n",
       "      <td>12:21</td>\n",
       "    </tr>\n",
       "    <tr>\n",
       "      <td>9</td>\n",
       "      <td>0.048106</td>\n",
       "      <td>0.308476</td>\n",
       "      <td>0.011094</td>\n",
       "      <td>12:21</td>\n",
       "    </tr>\n",
       "  </tbody>\n",
       "</table>"
      ],
      "text/plain": [
       "<IPython.core.display.HTML object>"
      ]
     },
     "metadata": {},
     "output_type": "display_data"
    }
   ],
   "source": [
    "learn = unet_learner(dls, resnet18, loss_func=CustomSeverstalSegComoLoss(axis=1), metrics=[Dice])\n",
    "learn.fine_tune(10)"
   ]
  },
  {
   "cell_type": "code",
   "execution_count": 64,
   "id": "aef20165",
   "metadata": {},
   "outputs": [
    {
     "data": {
      "image/png": "[encoded data removed]",
      "text/plain": [
       "<Figure size 432x288 with 1 Axes>"
      ]
     },
     "metadata": {
      "needs_background": "light"
     },
     "output_type": "display_data"
    }
   ],
   "source": [
    "learn.recorder.plot_loss()"
   ]
  },
  {
   "cell_type": "code",
   "execution_count": null,
   "id": "226db30f",
   "metadata": {},
   "outputs": [],
   "source": []
  }
 ],
 "metadata": {
  "kernelspec": {
   "display_name": "Python 3",
   "language": "python",
   "name": "python3"
  },
  "language_info": {
   "codemirror_mode": {
    "name": "ipython",
    "version": 3
   },
   "file_extension": ".py",
   "mimetype": "text/x-python",
   "name": "python",
   "nbconvert_exporter": "python",
   "pygments_lexer": "ipython3",
   "version": "3.8.5"
  }
 },
 "nbformat": 4,
 "nbformat_minor": 5
}
